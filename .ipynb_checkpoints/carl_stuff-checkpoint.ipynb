{
 "cells": [
  {
   "cell_type": "markdown",
   "metadata": {},
   "source": [
    "## Import and read the file \"mpg.csv\""
   ]
  },
  {
   "cell_type": "code",
   "execution_count": 115,
   "metadata": {},
   "outputs": [],
   "source": [
    "import csv\n",
    "import numpy as np"
   ]
  },
  {
   "cell_type": "code",
   "execution_count": 116,
   "metadata": {},
   "outputs": [],
   "source": [
    "csvfile = open(\"mpg.csv\")\n",
    "mpg = list(csv.reader(csvfile))\n",
    "# mpg[:3]"
   ]
  },
  {
   "cell_type": "markdown",
   "metadata": {},
   "source": [
    "## Move the column headings to another variable and transform list into a Numpy array"
   ]
  },
  {
   "cell_type": "code",
   "execution_count": 117,
   "metadata": {},
   "outputs": [
    {
     "data": {
      "text/plain": [
       "['mpg',\n",
       " 'cylinders',\n",
       " 'displacement',\n",
       " 'horsepower',\n",
       " 'weight',\n",
       " 'acceleration',\n",
       " 'model_year',\n",
       " 'origin',\n",
       " 'name']"
      ]
     },
     "metadata": {},
     "output_type": "display_data"
    }
   ],
   "source": [
    "# First element is the column heading so index 0 at the list\n",
    "mpg_table_header = mpg[0]\n",
    "\n",
    "# Remove the first element by reshaping it\n",
    "mpg = mpg[1:]\n",
    "mpg_arr = np.asarray(mpg)\n",
    "\n",
    "# display(mpg_arr)\n",
    "display(mpg_table_header)\n",
    "# display(mpg)"
   ]
  },
  {
   "cell_type": "markdown",
   "metadata": {},
   "source": [
    "## Need to replace all occurence of '?' with 'None"
   ]
  },
  {
   "cell_type": "code",
   "execution_count": 118,
   "metadata": {},
   "outputs": [],
   "source": [
    "# Helper function to replace the unwanted characters\n",
    "def check_and_replace(char, charToReplace, replacement):\n",
    "    if char == charToReplace:\n",
    "        return replacement\n",
    "    return char\n",
    "\n",
    "def convert_to_float(value):\n",
    "    if value == 'None':\n",
    "        return float('nan')\n",
    "    return value\n",
    "\n",
    "# Call the function for every element in the list and use the return value as the new value\n",
    "mpg = [[check_and_replace(item, '?', np.nan) for item in row] for row in mpg]\n",
    "\n",
    "# Extract the last element (the car column name) as a list\n",
    "mpg_car_names = [row[-1] for row in mpg]\n",
    "\n",
    "# Extract all other columns except the last column\n",
    "mpg_table_values = [row[:-1] for row in mpg]\n",
    "\n",
    "# Convert None to float(nan) to allow float conversion \n",
    "mpg_table_values = [[convert_to_float(item) for item in row] for row in mpg_table_values]\n",
    "mpg_arr = np.asarray(mpg_table_values, dtype = \"float\")"
   ]
  },
  {
   "cell_type": "code",
   "execution_count": 147,
   "metadata": {},
   "outputs": [],
   "source": [
    "# Helper function to calculate the average of the column based on another column's unique values\n",
    "# target_column: column of the average to be calculated\n",
    "# mpg_column: column where the mpg values are\n",
    "def get_average_mpg_for_values(target_column, mpg_column):\n",
    "    # Finds all the unique values in the column\n",
    "    unique_vals = np.unique(target_column)\n",
    "    # Creates a table with 2 columns where the left side is the average and the right side is the corresponding value\n",
    "    res_table = np.zeros(shape=(len(unique_vals), 1))\n",
    "    res_table_idx = 0\n",
    "    \n",
    "    for unique in unique_vals:\n",
    "        # Get the indexes of where the unique values occur in the column\n",
    "        where_unique = np.where(target_column == unique)\n",
    "        res_table[res_table_idx] = np.sum(mpg_column[where_unique]) / len(where_unique[0])\n",
    "        res_table_idx = res_table_idx + 1\n",
    "    \n",
    "    return res_table\n",
    "\n",
    "# first element of the list is the corresponding unique value, second element is the averages\n",
    "def create_average_table(target_column, mpg_column_idx, mpg_table):\n",
    "    unique_vals = np.unique(target_column)\n",
    "    avg_table = []\n",
    "    avg_table.append(unique_vals)\n",
    "    avg_table.append(get_average_mpg_for_values(target_column, mpg_table[:, mpg_column_idx]))\n",
    "    return avg_table\n",
    "    \n",
    "average_mpg_cylendars = create_average_table(mpg_arr[:, 1], 0, mpg_arr)\n",
    "average_mpg_model_year = create_average_table(mpg_arr[:, 6], 0, mpg_arr)\n",
    "\n",
    "# Need to strip the car name columns for only the manufacturer then convert it to np array to use np.where properly\n",
    "car_manufacturer = [item.split(' ')[0] for item in mpg_car_names]\n",
    "car_manufacturer = np.asarray(car_manufacturer)\n",
    "average_mpg_manufacturer = create_average_table(car_manufacturer, 0, mpg_arr)"
   ]
  },
  {
   "cell_type": "markdown",
   "metadata": {},
   "source": [
    "## Count the number of cars in the dataset for each manufacturer"
   ]
  },
  {
   "cell_type": "code",
   "execution_count": 153,
   "metadata": {},
   "outputs": [
    {
     "data": {
      "text/plain": [
       "[array(['amc', 'audi', 'bmw', 'buick', 'cadillac', 'capri', 'chevroelt',\n",
       "        'chevrolet', 'chevy', 'chrysler', 'datsun', 'dodge', 'fiat',\n",
       "        'ford', 'hi', 'honda', 'maxda', 'mazda', 'mercedes',\n",
       "        'mercedes-benz', 'mercury', 'nissan', 'oldsmobile', 'opel',\n",
       "        'peugeot', 'plymouth', 'pontiac', 'renault', 'saab', 'subaru',\n",
       "        'toyota', 'toyouta', 'triumph', 'vokswagen', 'volkswagen', 'volvo',\n",
       "        'vw'], dtype='<U13'),\n",
       " array([28.,  7.,  2., 17.,  2.,  1.,  1., 43.,  3.,  6., 23., 28.,  8.,\n",
       "        51.,  1., 13.,  2., 10.,  1.,  2., 11.,  1., 10.,  4.,  8., 31.,\n",
       "        16.,  5.,  4.,  4., 25.,  1.,  1.,  1., 15.,  6.,  6.])]"
      ]
     },
     "metadata": {},
     "output_type": "display_data"
    }
   ],
   "source": [
    "# Simply count the number of occurences for each manufacturer using np.unique and np.where like the helper\n",
    "car_produced_manufacturer = []\n",
    "unique_manufacturer = np.unique(car_manufacturer)\n",
    "car_produced_manufacturer.append(unique_manufacturer)\n",
    "\n",
    "num_cars_created = np.zeros(len(unique_manufacturer))\n",
    "idx = 0;\n",
    "for item in unique_manufacturer:\n",
    "    num_cars_created[idx] = len(np.where(car_manufacturer == item)[0])\n",
    "    idx = idx + 1\n",
    "\n",
    "car_produced_manufacturer.append(num_cars_created) \n",
    "display(car_produced_manufacturer)"
   ]
  },
  {
   "cell_type": "markdown",
   "metadata": {},
   "source": [
    "## Calculate correlation beween mpg and other variables, like displacement, horsepower, weight and others. Find the most and least influential variables on auto fuel economy"
   ]
  },
  {
   "cell_type": "markdown",
   "metadata": {},
   "source": []
  },
  {
   "cell_type": "markdown",
   "metadata": {},
   "source": [
    "## Use matplotlib library to plot average mpg for each manufacturer."
   ]
  },
  {
   "cell_type": "code",
   "execution_count": 151,
   "metadata": {},
   "outputs": [],
   "source": [
    "import matplotlib.pyplot as plt"
   ]
  },
  {
   "cell_type": "code",
   "execution_count": 159,
   "metadata": {},
   "outputs": [
    {
     "data": {
      "image/png": "[encoded data removed]",
      "text/plain": [
       "<Figure size 432x288 with 1 Axes>"
      ]
     },
     "metadata": {
      "needs_background": "light"
     },
     "output_type": "display_data"
    }
   ],
   "source": []
  },
  {
   "cell_type": "markdown",
   "metadata": {},
   "source": [
    "## Plots average mpg for every variable it is given. Use the function to plot average mpg for each origin."
   ]
  },
  {
   "cell_type": "code",
   "execution_count": null,
   "metadata": {},
   "outputs": [],
   "source": []
  }
 ],
 "metadata": {
  "kernelspec": {
   "display_name": "Python 3",
   "language": "python",
   "name": "python3"
  },
  "language_info": {
   "codemirror_mode": {
    "name": "ipython",
    "version": 3
   },
   "file_extension": ".py",
   "mimetype": "text/x-python",
   "name": "python",
   "nbconvert_exporter": "python",
   "pygments_lexer": "ipython3",
   "version": "3.7.1"
  }
 },
 "nbformat": 4,
 "nbformat_minor": 2
}
